{
 "cells": [
  {
   "cell_type": "code",
   "execution_count": 1,
   "metadata": {},
   "outputs": [],
   "source": [
    "import yaml\n",
    "import pandas as pd \n",
    "import geopandas as gpd \n",
    "from pygit2 import Repository\n",
    "import os \n",
    "\n",
    "class DataFile:\n",
    "    def __init__(self, file_name, file_type, metadata=None):\n",
    "        self.file_name = file_name\n",
    "        self.file_type = file_type  # 'csv' or 'json'\n",
    "        self.metadata = metadata if metadata is not None else {}\n",
    "\n",
    "    def add_metadata(self, key, value):\n",
    "        self.metadata[key] = value\n",
    "\n",
    "class Document: \n",
    "    def __init__(self, yaml_file):\n",
    "        self.yaml_file = yaml_file\n",
    "        self.data_files = []\n",
    "        self._load_yaml()"
   ]
  },
  {
   "cell_type": "code",
   "execution_count": null,
   "metadata": {},
   "outputs": [],
   "source": [
    "# DataFile.add_github() method: \n",
    "# Add a Github URL to the DataFile object metadata.\n",
    "# Default repo is current directory (\".\").\n",
    "# Default branch is <current-remote>/<current-local-branch>\n",
    "    # Throws error if current branch is not found in remote\n",
    "# Default URL format is from current origin/branch + filename where the method is called.\n",
    "# Intended to be for the github link to the code that you used to produce the file you're documenting.  \n",
    "# \"overwrite=False\" flag for if there's an existing URL already "
   ]
  },
  {
   "cell_type": "code",
   "execution_count": 26,
   "metadata": {},
   "outputs": [
    {
     "data": {
      "text/plain": [
       "'/Users/alexsocarras/tech_impact/AlexS-TechImpact-codebook/venv/lib/python3.9/site-packages/ipykernel_launcher.py'"
      ]
     },
     "execution_count": 26,
     "metadata": {},
     "output_type": "execute_result"
    }
   ],
   "source": [
    "\n",
    "repo = Repository(\".\")\n",
    "current_branch = repo.head.shorthand\n",
    "current_remote_name = repo.config[f\"branch.{current_branch}.remote\"]\n",
    "current_remote_url = repo.config[f\"remote.{current_remote_name}.url\"]\n",
    "\n",
    "# print(current_branch)\n",
    "# Check if branch exists in remote \n",
    "if not any(current_branch in r for r in list(repo.branches.remote)): # not 100% robust -- branch could be in a remote but not the current remote\n",
    "    raise Exception(f\"Current branch {current_branch} not found in any remote\")\n",
    "\n",
    "# For now, I will assume the github URL structure and just construct it with string concatenation. Not most robust method.\n",
    "# cur_file = os.path.basename(__file__) # won't work in jupyter notebook\n",
    "cur_file = \"auto-doc-test.ipynb\""
   ]
  },
  {
   "cell_type": "code",
   "execution_count": 31,
   "metadata": {},
   "outputs": [
    {
     "ename": "NameError",
     "evalue": "name '__file__' is not defined",
     "output_type": "error",
     "traceback": [
      "\u001b[0;31m---------------------------------------------------------------------------\u001b[0m",
      "\u001b[0;31mNameError\u001b[0m                                 Traceback (most recent call last)",
      "Cell \u001b[0;32mIn[31], line 2\u001b[0m\n\u001b[1;32m      1\u001b[0m \u001b[39mimport\u001b[39;00m \u001b[39mos\u001b[39;00m \n\u001b[0;32m----> 2\u001b[0m os\u001b[39m.\u001b[39mpath\u001b[39m.\u001b[39mbasename(\u001b[39m__file__\u001b[39;49m)\n",
      "\u001b[0;31mNameError\u001b[0m: name '__file__' is not defined"
     ]
    }
   ],
   "source": [
    "import os \n",
    "os.path.basename(__file__)"
   ]
  },
  {
   "cell_type": "code",
   "execution_count": 16,
   "metadata": {},
   "outputs": [
    {
     "name": "stdout",
     "output_type": "stream",
     "text": [
      "URL of the current remote: https://github.com/apsocarras/AlexS-TechImpact-codebook.git\n"
     ]
    }
   ],
   "source": [
    "import pygit2\n",
    "\n",
    "repo_path = '.'\n",
    "repo = pygit2.Repository(repo_path)\n",
    "\n",
    "\n",
    "# Get the URL of the current remote\n",
    "current_branch = repo.head.shorthand\n",
    "current_remote_name = repo.config[f\"branch.{current_branch}.remote\"]\n",
    "current_remote_url = repo.config[f\"remote.{current_remote_name}.url\"]\n",
    "\n",
    "print(f\"URL of the current remote: {current_remote_url}\")"
   ]
  },
  {
   "cell_type": "code",
   "execution_count": 33,
   "metadata": {},
   "outputs": [
    {
     "ename": "AttributeError",
     "evalue": "'_pygit2.Branch' object has no attribute 'url'",
     "output_type": "error",
     "traceback": [
      "\u001b[0;31m---------------------------------------------------------------------------\u001b[0m",
      "\u001b[0;31mAttributeError\u001b[0m                            Traceback (most recent call last)",
      "Cell \u001b[0;32mIn[33], line 1\u001b[0m\n\u001b[0;32m----> 1\u001b[0m repo\u001b[39m.\u001b[39;49mbranches[current_branch]\u001b[39m.\u001b[39;49murl \u001b[39m# Haven't pushed this yet, so error.\u001b[39;00m\n",
      "\u001b[0;31mAttributeError\u001b[0m: '_pygit2.Branch' object has no attribute 'url'"
     ]
    }
   ],
   "source": [
    "repo.branches[current_branch].url # Haven't pushed this branch yet, so error."
   ]
  },
  {
   "cell_type": "code",
   "execution_count": 9,
   "metadata": {},
   "outputs": [
    {
     "ename": "ValueError",
     "evalue": "reference 'refs/heads/1/alex/auto-doc' is not a remote branch.",
     "output_type": "error",
     "traceback": [
      "\u001b[0;31m---------------------------------------------------------------------------\u001b[0m",
      "\u001b[0;31mValueError\u001b[0m                                Traceback (most recent call last)",
      "Cell \u001b[0;32mIn[9], line 1\u001b[0m\n\u001b[0;32m----> 1\u001b[0m repo\u001b[39m.\u001b[39;49mbranches[current_branch]\u001b[39m.\u001b[39;49mremote_name \u001b[39m# pushed this branch yet, so error.\u001b[39;00m\n",
      "\u001b[0;31mValueError\u001b[0m: reference 'refs/heads/1/alex/auto-doc' is not a remote branch."
     ]
    }
   ],
   "source": [
    "repo.branches[current_branch].remote_name # pushed this branch yet, so error.\n"
   ]
  },
  {
   "cell_type": "code",
   "execution_count": 5,
   "metadata": {},
   "outputs": [
    {
     "data": {
      "text/plain": [
       "'https://github.com/apsocarras/AlexS-TechImpact-codebook.git'"
      ]
     },
     "execution_count": 5,
     "metadata": {},
     "output_type": "execute_result"
    }
   ],
   "source": []
  },
  {
   "cell_type": "code",
   "execution_count": 24,
   "metadata": {},
   "outputs": [
    {
     "data": {
      "text/plain": [
       "['origin/main']"
      ]
     },
     "execution_count": 24,
     "metadata": {},
     "output_type": "execute_result"
    }
   ],
   "source": []
  },
  {
   "cell_type": "code",
   "execution_count": 26,
   "metadata": {},
   "outputs": [
    {
     "ename": "AttributeError",
     "evalue": "'_pygit2.Branch' object has no attribute 'url'",
     "output_type": "error",
     "traceback": [
      "\u001b[0;31m---------------------------------------------------------------------------\u001b[0m",
      "\u001b[0;31mAttributeError\u001b[0m                            Traceback (most recent call last)",
      "Cell \u001b[0;32mIn[26], line 1\u001b[0m\n\u001b[0;32m----> 1\u001b[0m repo\u001b[39m.\u001b[39;49mbranches[\u001b[39m'\u001b[39;49m\u001b[39mmain\u001b[39;49m\u001b[39m'\u001b[39;49m]\u001b[39m.\u001b[39;49murl\n",
      "\u001b[0;31mAttributeError\u001b[0m: '_pygit2.Branch' object has no attribute 'url'"
     ]
    }
   ],
   "source": [
    "repo.branches['main']."
   ]
  },
  {
   "cell_type": "code",
   "execution_count": 13,
   "metadata": {},
   "outputs": [
    {
     "data": {
      "text/plain": [
       "<pygit2.remote.RemoteCollection at 0x13fe37c70>"
      ]
     },
     "execution_count": 13,
     "metadata": {},
     "output_type": "execute_result"
    }
   ],
   "source": [
    "[repo.remotes]"
   ]
  }
 ],
 "metadata": {
  "kernelspec": {
   "display_name": "venv",
   "language": "python",
   "name": "python3"
  },
  "language_info": {
   "codemirror_mode": {
    "name": "ipython",
    "version": 3
   },
   "file_extension": ".py",
   "mimetype": "text/x-python",
   "name": "python",
   "nbconvert_exporter": "python",
   "pygments_lexer": "ipython3",
   "version": "3.9.6"
  },
  "orig_nbformat": 4
 },
 "nbformat": 4,
 "nbformat_minor": 2
}
