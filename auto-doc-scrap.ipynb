{
 "cells": [
  {
   "cell_type": "code",
   "execution_count": 1,
   "metadata": {},
   "outputs": [],
   "source": [
    "import yaml\n",
    "import pandas as pd \n",
    "import geopandas as gpd \n",
    "from pygit2 import Repository\n",
    "from IPython import get_ipython\n",
    "import os \n",
    "\n",
    "class DataFile:\n",
    "    def __init__(self, file_name, file_type, metadata=None):\n",
    "        self.file_name = file_name\n",
    "        self.file_type = file_type  # 'csv' or 'json'\n",
    "        self.metadata = metadata if metadata is not None else {}\n",
    "\n",
    "    def add_metadata(self, key, value):\n",
    "        self.metadata[key] = value\n",
    "\n",
    "class Document: \n",
    "    def __init__(self, yaml_file):\n",
    "        self.yaml_file = yaml_file\n",
    "        self.data_files = []\n",
    "        self._load_yaml()"
   ]
  },
  {
   "cell_type": "code",
   "execution_count": null,
   "metadata": {},
   "outputs": [],
   "source": [
    "# DataFile.add_github() method: \n",
    "# Add a Github URL to the DataFile object metadata.\n",
    "# Default repo is current directory (\".\").\n",
    "# Default branch is <current-remote>/<current-local-branch>\n",
    "    # Throws error if current branch is not found in remote\n",
    "# Default URL format is from current origin/branch + filename where the method is called.\n",
    "# Intended to be for the github link to the code that you used to produce the file you're documenting.  \n",
    "# \"overwrite=False\" flag for if there's an existing URL already "
   ]
  },
  {
   "cell_type": "code",
   "execution_count": 41,
   "metadata": {},
   "outputs": [
    {
     "data": {
      "text/plain": [
       "'https://github.com/apsocarras/AlexS-TechImpact-codebook/tree/1/alex/auto-doc/auto-doc-scrap.ipynb'"
      ]
     },
     "execution_count": 41,
     "metadata": {},
     "output_type": "execute_result"
    }
   ],
   "source": [
    "repo = Repository(\".\")\n",
    "\n",
    "## Current branch \n",
    "current_branch = repo.head.shorthand\n",
    "\n",
    "# Check if branch exists in remote \n",
    "if not any(current_branch in r for r in list(repo.branches.remote)): # not 100% robust -- branch could be in a remote but not the current remote\n",
    "    raise Exception(f\"Current branch {current_branch} not found in any remote\")\n",
    "\n",
    "## Current remote\n",
    "current_remote_name = repo.config[f\"branch.{current_branch}.remote\"]\n",
    "current_remote_url = repo.config[f\"remote.{current_remote_name}.url\"]\n",
    "\n",
    "## Current file \n",
    "# We're going to use this class in jupyter notebook, so we need to access the current notebook name\n",
    "# Typical os.path.basename(_file_) won't work \n",
    "# For Vscode users: https://github.com/msm1089/ipynbname/issues/17\n",
    "\n",
    "ip = get_ipython()\n",
    "nb_path = ip.user_ns['__vsc_ipynb_file__'] if '__vsc_ipynb_file__' in ip.user_ns else None\n",
    "current_nb = os.path.basename(nb_path)\n",
    "\n",
    "## Full url to remote notebook \n",
    "# For now, I will assume the github URL structure and just construct it with string concatenation. \n",
    "full_github_url = f\"{current_remote_url.rstrip('.git')}/tree/{current_branch}/{current_nb}\"\n",
    "full_github_url"
   ]
  }
 ],
 "metadata": {
  "kernelspec": {
   "display_name": "venv",
   "language": "python",
   "name": "python3"
  },
  "language_info": {
   "codemirror_mode": {
    "name": "ipython",
    "version": 3
   },
   "file_extension": ".py",
   "mimetype": "text/x-python",
   "name": "python",
   "nbconvert_exporter": "python",
   "pygments_lexer": "ipython3",
   "version": "3.9.6"
  },
  "orig_nbformat": 4
 },
 "nbformat": 4,
 "nbformat_minor": 2
}
