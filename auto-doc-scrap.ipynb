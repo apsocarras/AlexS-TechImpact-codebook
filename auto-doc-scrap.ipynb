{
 "cells": [
  {
   "cell_type": "code",
   "execution_count": 1,
   "metadata": {},
   "outputs": [],
   "source": [
    "import yaml\n",
    "import pandas as pd \n",
    "import geopandas as gpd \n",
    "from pygit2 import Repository\n",
    "import os \n",
    "\n",
    "class DataFile:\n",
    "    def __init__(self, file_name, file_type, metadata=None):\n",
    "        self.file_name = file_name\n",
    "        self.file_type = file_type  # 'csv' or 'json'\n",
    "        self.metadata = metadata if metadata is not None else {}\n",
    "\n",
    "    def add_metadata(self, key, value):\n",
    "        self.metadata[key] = value\n",
    "\n",
    "\n",
    "\n",
    "class Document: \n",
    "    def __init__(self, yaml_file):\n",
    "        self.yaml_file = yaml_file\n",
    "        self.data_files = []\n",
    "        self._load_yaml()"
   ]
  },
  {
   "cell_type": "code",
   "execution_count": 2,
   "metadata": {},
   "outputs": [
    {
     "ename": "SyntaxError",
     "evalue": "invalid syntax (1932217471.py, line 10)",
     "output_type": "error",
     "traceback": [
      "\u001b[0;36m  Cell \u001b[0;32mIn[2], line 10\u001b[0;36m\u001b[0m\n\u001b[0;31m    def add_github_url(repo=\".\"remote=\"origin\", overwrite=False):\u001b[0m\n\u001b[0m                               ^\u001b[0m\n\u001b[0;31mSyntaxError\u001b[0m\u001b[0;31m:\u001b[0m invalid syntax\n"
     ]
    }
   ],
   "source": [
    "# .add_github_url() method: \n",
    "# Add a Github URL to the DataFile object metadata.\n",
    "# Default repo is current directory (\".\").\n",
    "# Default branch is <current-remote>/<current-local-branch>\n",
    "# Default URL format is from current origin/branch + filename where the method is called.\n",
    "# Intended to be for the github link to the code that you used to produce the file you're documenting.  \n",
    "# \"overwrite=False\" flag for if there's an existing URL already \n",
    "  "
   ]
  },
  {
   "cell_type": "code",
   "execution_count": 29,
   "metadata": {},
   "outputs": [
    {
     "data": {
      "text/plain": [
       "'1/alex/auto-doc'"
      ]
     },
     "execution_count": 29,
     "metadata": {},
     "output_type": "execute_result"
    }
   ],
   "source": [
    "repo_name=\".\"\n",
    "remote=\"origin\"\n",
    "repo = Repository(repo_name)\n",
    "remote = repo.remotes[remote]\n",
    "current_branch = repo.head.shorthand\n",
    "current_branch"
   ]
  },
  {
   "cell_type": "code",
   "execution_count": 31,
   "metadata": {},
   "outputs": [
    {
     "ename": "AttributeError",
     "evalue": "'_pygit2.Branch' object has no attribute 'url'",
     "output_type": "error",
     "traceback": [
      "\u001b[0;31m---------------------------------------------------------------------------\u001b[0m",
      "\u001b[0;31mAttributeError\u001b[0m                            Traceback (most recent call last)",
      "Cell \u001b[0;32mIn[31], line 1\u001b[0m\n\u001b[0;32m----> 1\u001b[0m repo\u001b[39m.\u001b[39;49mbranches[current_branch]\u001b[39m.\u001b[39;49murl\n",
      "\u001b[0;31mAttributeError\u001b[0m: '_pygit2.Branch' object has no attribute 'url'"
     ]
    }
   ],
   "source": [
    "repo.branches[current_branch].url # Haven't pushed this yet, so error."
   ]
  },
  {
   "cell_type": "code",
   "execution_count": 24,
   "metadata": {},
   "outputs": [
    {
     "data": {
      "text/plain": [
       "['origin/main']"
      ]
     },
     "execution_count": 24,
     "metadata": {},
     "output_type": "execute_result"
    }
   ],
   "source": [
    "list(repo.branches.remote)"
   ]
  },
  {
   "cell_type": "code",
   "execution_count": 26,
   "metadata": {},
   "outputs": [
    {
     "ename": "AttributeError",
     "evalue": "'_pygit2.Branch' object has no attribute 'url'",
     "output_type": "error",
     "traceback": [
      "\u001b[0;31m---------------------------------------------------------------------------\u001b[0m",
      "\u001b[0;31mAttributeError\u001b[0m                            Traceback (most recent call last)",
      "Cell \u001b[0;32mIn[26], line 1\u001b[0m\n\u001b[0;32m----> 1\u001b[0m repo\u001b[39m.\u001b[39;49mbranches[\u001b[39m'\u001b[39;49m\u001b[39mmain\u001b[39;49m\u001b[39m'\u001b[39;49m]\u001b[39m.\u001b[39;49murl\n",
      "\u001b[0;31mAttributeError\u001b[0m: '_pygit2.Branch' object has no attribute 'url'"
     ]
    }
   ],
   "source": [
    "repo.branches['main']."
   ]
  },
  {
   "cell_type": "code",
   "execution_count": 13,
   "metadata": {},
   "outputs": [
    {
     "data": {
      "text/plain": [
       "<pygit2.remote.RemoteCollection at 0x13fe37c70>"
      ]
     },
     "execution_count": 13,
     "metadata": {},
     "output_type": "execute_result"
    }
   ],
   "source": [
    "[repo.remotes]"
   ]
  }
 ],
 "metadata": {
  "kernelspec": {
   "display_name": "venv",
   "language": "python",
   "name": "python3"
  },
  "language_info": {
   "codemirror_mode": {
    "name": "ipython",
    "version": 3
   },
   "file_extension": ".py",
   "mimetype": "text/x-python",
   "name": "python",
   "nbconvert_exporter": "python",
   "pygments_lexer": "ipython3",
   "version": "3.9.6"
  },
  "orig_nbformat": 4
 },
 "nbformat": 4,
 "nbformat_minor": 2
}
