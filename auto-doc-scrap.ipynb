{
 "cells": [
  {
   "cell_type": "code",
   "execution_count": 1,
   "metadata": {},
   "outputs": [],
   "source": [
    "import yaml\n",
    "import pandas as pd \n",
    "import geopandas as gpd \n",
    "from pygit2 import Repository\n",
    "import os \n",
    "\n",
    "class DataFile:\n",
    "    def __init__(self, file_name, file_type, metadata=None):\n",
    "        self.file_name = file_name\n",
    "        self.file_type = file_type  # 'csv' or 'json'\n",
    "        self.metadata = metadata if metadata is not None else {}\n",
    "\n",
    "    def add_metadata(self, key, value):\n",
    "        self.metadata[key] = value\n",
    "\n",
    "\n",
    "\n",
    "class Document: \n",
    "    def __init__(self, yaml_file):\n",
    "        self.yaml_file = yaml_file\n",
    "        self.data_files = []\n",
    "        self._load_yaml()"
   ]
  },
  {
   "cell_type": "code",
   "execution_count": 4,
   "metadata": {},
   "outputs": [
    {
     "data": {
      "text/plain": [
       "[<pygit2.remote.Remote at 0x1114870d0>]"
      ]
     },
     "execution_count": 4,
     "metadata": {},
     "output_type": "execute_result"
    }
   ],
   "source": [
    "# .add_github() method: \n",
    "# Add a Github URL to the DataFile object metadata.\n",
    "# Defaults to current origin/branch/filename where the method is called.\n",
    "# Intended to be for the link to the code that you used to produce the file.  \n",
    "# Throws warning if there are multiple remotes and require user to specify\n",
    "#  \n",
    "# Can also enter a full URL manually on call.  \n",
    "# \"overwrite=False\" flag for if there's existing URL already \n",
    "  \n",
    "repo = Repository(\".\")\n",
    "remote_names = [r.name for r in repo]"
   ]
  }
 ],
 "metadata": {
  "kernelspec": {
   "display_name": "venv",
   "language": "python",
   "name": "python3"
  },
  "language_info": {
   "codemirror_mode": {
    "name": "ipython",
    "version": 3
   },
   "file_extension": ".py",
   "mimetype": "text/x-python",
   "name": "python",
   "nbconvert_exporter": "python",
   "pygments_lexer": "ipython3",
   "version": "3.9.6"
  },
  "orig_nbformat": 4
 },
 "nbformat": 4,
 "nbformat_minor": 2
}
